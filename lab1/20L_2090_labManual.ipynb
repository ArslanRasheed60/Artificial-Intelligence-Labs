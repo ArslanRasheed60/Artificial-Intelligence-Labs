{
  "nbformat": 4,
  "nbformat_minor": 0,
  "metadata": {
    "colab": {
      "provenance": []
    },
    "kernelspec": {
      "name": "python3",
      "display_name": "Python 3"
    },
    "language_info": {
      "name": "python"
    }
  },
  "cells": [
    {
      "cell_type": "code",
      "execution_count": 37,
      "metadata": {
        "colab": {
          "base_uri": "https://localhost:8080/"
        },
        "id": "pkS92uJRXcen",
        "outputId": "c8cc55d0-f6c8-4bcc-deb3-4316a271bd98"
      },
      "outputs": [
        {
          "output_type": "execute_result",
          "data": {
            "text/plain": [
              "8"
            ]
          },
          "metadata": {},
          "execution_count": 37
        }
      ],
      "source": [
        "#power function 8.1\n",
        "def myPower(b, e) :\n",
        "  return b ** e\n",
        "\n",
        "myPower(2,3)\n"
      ]
    },
    {
      "cell_type": "code",
      "source": [
        "#array manipulation function 8.2\n",
        "\n",
        "def subtotal(array):\n",
        "  total = 0\n",
        "  j = 0\n",
        "  for i in array:\n",
        "    \n",
        "    total = total + i\n",
        "    array[j] = total\n",
        "    j += 1\n",
        "\n",
        "  return array\n",
        "\n",
        "subtotal([5.8,2.6,9.1,3.4,7.0])\n",
        "\n"
      ],
      "metadata": {
        "id": "4ZhrXwrjoIUZ"
      },
      "execution_count": null,
      "outputs": []
    },
    {
      "cell_type": "code",
      "source": [
        "#counter 8.3\n",
        "\n",
        "def counter(sen):\n",
        "  noOfLetters = 0\n",
        "  noOfSpaces = 0\n",
        "  noOfUpperCase = 0\n",
        "  noOfLowerCase = 0\n",
        "  for i in sen:\n",
        "    if i != ' ':\n",
        "      noOfLetters += 1\n",
        "    elif i == ' ':\n",
        "      noOfSpaces += 1\n",
        "    if i >= 'A' and i <= 'Z':\n",
        "      noOfUpperCase += 1\n",
        "    elif i >= 'a' and i <= 'z':\n",
        "      noOfLowerCase += 1 \n",
        "\n",
        "  return f\"No. of letters are: {noOfLetters}\\nNo. of spaces are: {noOfSpaces}\\nNo. of uppercase letters are: {noOfUpperCase}\\nNo. of lowercase letters: {noOfLowerCase}\"\n",
        "\n",
        "print(counter(\"Hello, I am a student of FAST University.\"))\n",
        "\n"
      ],
      "metadata": {
        "id": "GEtCGo5DigBD"
      },
      "execution_count": null,
      "outputs": []
    },
    {
      "cell_type": "code",
      "source": [
        "#Median 8.4\n",
        "\n",
        "def mergeArrays(nums1, nums2):\n",
        "  #initialize new array\n",
        "  newNum = []\n",
        "  a = 0\n",
        "  b = 0\n",
        "  i = 0\n",
        "  #merge\n",
        "  while(i < len(nums1) + len(nums2)):\n",
        "    if a == len(nums1) and b == len(nums2):\n",
        "      break\n",
        "    if a == len(nums1) and b != len(nums2):\n",
        "      newNum.append(nums2[b])\n",
        "      b += 1\n",
        "    elif a != len(nums1) and b == len(nums2):\n",
        "      newNum.append(nums1[a])\n",
        "      a += 1\n",
        "    elif nums1[a] <= nums2[b] :\n",
        "      newNum.append(nums1[a])\n",
        "      a += 1\n",
        "    elif nums1[a] > nums2[b] :\n",
        "      newNum.append(nums2[b])\n",
        "      b += 1\n",
        "    i += 1\n",
        "\n",
        "  return newNum\n",
        "\n",
        "def median(nums1, nums2):\n",
        "  newNum = mergeArrays(nums1, nums2)\n",
        "\n",
        "  leng = len(newNum)\n",
        "  index = int(leng/2)\n",
        "\n",
        "  if leng%2 == 0:\n",
        "    return (newNum[index - 1] + newNum[index])/2\n",
        "  else:\n",
        "    return newNum[index]\n",
        "  \n",
        "median([1,3],[2,4])"
      ],
      "metadata": {
        "id": "nPABe6i0oOGw"
      },
      "execution_count": null,
      "outputs": []
    },
    {
      "cell_type": "markdown",
      "source": [],
      "metadata": {
        "id": "joj7rqWpp1rt"
      }
    }
  ]
}