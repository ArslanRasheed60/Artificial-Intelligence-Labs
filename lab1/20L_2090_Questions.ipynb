{
  "nbformat": 4,
  "nbformat_minor": 0,
  "metadata": {
    "colab": {
      "provenance": []
    },
    "kernelspec": {
      "name": "python3",
      "display_name": "Python 3"
    },
    "language_info": {
      "name": "python"
    }
  },
  "cells": [
    {
      "cell_type": "markdown",
      "source": [
        "# Question 1: \n",
        "Ask user to give two float input for length and breadth of a rectangle and print area type casted to int."
      ],
      "metadata": {
        "id": "Rafzbiva9s9l"
      }
    },
    {
      "cell_type": "code",
      "source": [
        "\n",
        "def Area(ln , br):\n",
        "  return int(ln * br)\n",
        "\n",
        "ln = float(input(\"Enter float input number 1: \"))\n",
        "br = float(input(\"Enter float input number 2: \"))\n",
        "Area(ln ,br)"
      ],
      "metadata": {
        "id": "MXQNqunTqBhl",
        "colab": {
          "base_uri": "https://localhost:8080/"
        },
        "outputId": "aa6c9c40-93e7-4c85-e047-3da8acfcc0e2"
      },
      "execution_count": 7,
      "outputs": [
        {
          "name": "stdout",
          "output_type": "stream",
          "text": [
            "Enter float input number 1: 2.5\n",
            "Enter float input number 2: 2.4\n"
          ]
        },
        {
          "output_type": "execute_result",
          "data": {
            "text/plain": [
              "6"
            ]
          },
          "metadata": {},
          "execution_count": 7
        }
      ]
    },
    {
      "cell_type": "markdown",
      "source": [
        "# Question 2:\n",
        "Take name, roll number and GPA from user and print in the below format:\n",
        "\n",
        "My name is xyz and my roll number is xyz. My GPA is xyz"
      ],
      "metadata": {
        "id": "5xIrriST9yU2"
      }
    },
    {
      "cell_type": "code",
      "source": [
        "name = input(\"Enter name: \")\n",
        "roll_number = input(\"Enter roll number: \")\n",
        "gpa = input(\"Enter gpa: \")\n",
        "\n",
        "print(f\"My name is {name} and my roll number is {roll_number}. My GPA is {gpa}\")\n"
      ],
      "metadata": {
        "colab": {
          "base_uri": "https://localhost:8080/"
        },
        "id": "cwDCnsEer1Di",
        "outputId": "ecd7a524-71f0-45b8-885c-8118226098fc"
      },
      "execution_count": 8,
      "outputs": [
        {
          "output_type": "stream",
          "name": "stdout",
          "text": [
            "Enter name: arslan\n",
            "Enter roll number: 2090\n",
            "Enter gpa: 3.5\n",
            "My name is arslan and my roll number is 2090. My GPA is 3.5\n"
          ]
        }
      ]
    },
    {
      "cell_type": "markdown",
      "source": [
        "# Question3\n",
        "\n",
        "Store three integers in x, y and z. Print their sum and product."
      ],
      "metadata": {
        "id": "-66paRIF93MN"
      }
    },
    {
      "cell_type": "code",
      "source": [
        "# x = int(input(\"Enter 1st integer: \"))\n",
        "# y = int(input(\"Enter 2nd integer: \"))\n",
        "# z = int(input(\"Enter 3rd integer: \"))\n",
        "\n",
        "x = int(4)\n",
        "y = int(5)\n",
        "z = int(7)\n",
        "\n",
        "print(f\"Sum is {x + y + z} and product is {x * y * y}\")\n"
      ],
      "metadata": {
        "colab": {
          "base_uri": "https://localhost:8080/"
        },
        "id": "LWKgknRssTAP",
        "outputId": "504c433e-1447-4a14-cdc9-1d95dbe6771a"
      },
      "execution_count": 11,
      "outputs": [
        {
          "output_type": "stream",
          "name": "stdout",
          "text": [
            "Sum is 16 and product is 100\n"
          ]
        }
      ]
    },
    {
      "cell_type": "markdown",
      "source": [
        "#Question4\n",
        "\n",
        "Suppose passing marks of a subject is 35. Take input of marks from user and check whether it is greater than passing marks or not"
      ],
      "metadata": {
        "id": "NkaVo3oH983q"
      }
    },
    {
      "cell_type": "code",
      "source": [
        "passingMarks = 35\n",
        "marks = int(input(\"Enter marks: \"))\n",
        "if marks > passingMarks:\n",
        "  print(\"Marks are greater than passing marks\")\n",
        "elif marks == passingMarks:\n",
        "  print(\"Marks are equal to passing marks\")\n",
        "else:\n",
        "  print(\"Marks are less than passing marks\")"
      ],
      "metadata": {
        "colab": {
          "base_uri": "https://localhost:8080/"
        },
        "id": "k-ddU4IutM9J",
        "outputId": "9725d243-244e-4021-b1a8-fdc10a02e55e"
      },
      "execution_count": 14,
      "outputs": [
        {
          "output_type": "stream",
          "name": "stdout",
          "text": [
            "Enter marks: 34\n",
            "Marks are less than passing marks\n"
          ]
        }
      ]
    },
    {
      "cell_type": "markdown",
      "source": [
        "# Question5\n",
        "\n",
        "A school has following rules for grading system:\n",
        "\n",
        "1. Below 45 - F\n",
        "2. 45 to 49 - D\n",
        "3. 50 to 59 - C\n",
        "4. 60 to 79 - B\n",
        "5. 80 or above - A\n",
        "Ask user to enter marks and print the corresponding grade."
      ],
      "metadata": {
        "id": "gqdC1LCZ-CPW"
      }
    },
    {
      "cell_type": "code",
      "source": [
        "marks = int(input(\"Enter marks: \"))\n",
        "\n",
        "if marks >= 80:\n",
        "  print(\"A\")\n",
        "elif marks >= 60 and marks <= 79:\n",
        "  print(\"B\")\n",
        "elif marks >= 50 and marks <= 59:\n",
        "  print(\"C\")\n",
        "elif marks >= 45 and marks <= 49:\n",
        "  print(\"D\")\n",
        "elif marks < 45:\n",
        "  print(\"F\")\n",
        "\n",
        "\n"
      ],
      "metadata": {
        "colab": {
          "base_uri": "https://localhost:8080/"
        },
        "id": "Q9ou_kPVt6QG",
        "outputId": "85b29493-da5b-4cb4-f898-dc7af6bb527d"
      },
      "execution_count": 18,
      "outputs": [
        {
          "output_type": "stream",
          "name": "stdout",
          "text": [
            "Enter marks: 80\n",
            "A\n"
          ]
        }
      ]
    },
    {
      "cell_type": "markdown",
      "source": [
        "# Question6\n",
        "\n",
        "Print all elements of a list using for loop."
      ],
      "metadata": {
        "id": "cwL--Q8Z-IUH"
      }
    },
    {
      "cell_type": "code",
      "source": [
        "l = [1,2,3,4,5,6,7,8]\n",
        "\n",
        "for i in l:\n",
        "  print(i)\n"
      ],
      "metadata": {
        "colab": {
          "base_uri": "https://localhost:8080/"
        },
        "id": "L52tGXEIuzKa",
        "outputId": "c34de5ca-05dc-4588-ae0d-3380db7b8abe"
      },
      "execution_count": 19,
      "outputs": [
        {
          "output_type": "stream",
          "name": "stdout",
          "text": [
            "1\n",
            "2\n",
            "3\n",
            "4\n",
            "5\n",
            "6\n",
            "7\n",
            "8\n"
          ]
        }
      ]
    },
    {
      "cell_type": "markdown",
      "source": [
        "# Question7\n",
        "\n",
        "Take 5 integers from user using for loop and print their sum on the screen."
      ],
      "metadata": {
        "id": "Cj4M_9My-OR1"
      }
    },
    {
      "cell_type": "code",
      "source": [
        "sum = 0\n",
        "\n",
        "for i in range(0 , 5):\n",
        "  x = int(input(f\"Enter input {i+1}: \" ))\n",
        "  sum += x\n",
        "\n",
        "print(f\"sum: {sum}\")"
      ],
      "metadata": {
        "colab": {
          "base_uri": "https://localhost:8080/"
        },
        "id": "HaxkABjmu8hi",
        "outputId": "c0f4deb0-c097-464a-dc30-ad7be5a5e9f6"
      },
      "execution_count": 23,
      "outputs": [
        {
          "output_type": "stream",
          "name": "stdout",
          "text": [
            "Enter input 1: 1\n",
            "Enter input 2: 2\n",
            "Enter input 3: 3\n",
            "Enter input 4: 4\n",
            "Enter input 5: 5\n",
            "sum: 15\n"
          ]
        }
      ]
    },
    {
      "cell_type": "markdown",
      "source": [
        "# Question8\n",
        "\n",
        "Take 5 integers from user using while loop and print their sum on the screen."
      ],
      "metadata": {
        "id": "kXc90fFA-Zn6"
      }
    },
    {
      "cell_type": "code",
      "source": [
        "sum = 0\n",
        "i = 0\n",
        "\n",
        "while(i < 5):\n",
        "  x = int(input(f\"Enter input {i+1}: \" ))\n",
        "  sum += x\n",
        "  i += 1\n",
        "print(f\"sum: {sum}\")"
      ],
      "metadata": {
        "colab": {
          "base_uri": "https://localhost:8080/"
        },
        "id": "osVZQpvswFMN",
        "outputId": "10fcd29d-a756-4ca6-aa27-2c30f329540f"
      },
      "execution_count": 24,
      "outputs": [
        {
          "output_type": "stream",
          "name": "stdout",
          "text": [
            "Enter input 1: 2\n",
            "Enter input 2: 3\n",
            "Enter input 3: 4\n",
            "Enter input 4: 5\n",
            "Enter input 5: 6\n",
            "sum: 20\n"
          ]
        }
      ]
    },
    {
      "cell_type": "markdown",
      "source": [
        "#Question9\n",
        "\n",
        "Take two integer numbers from the user, return their product only if the product is equal to or lower than 1000, else return their sum."
      ],
      "metadata": {
        "id": "Dunx-Qpe-iVx"
      }
    },
    {
      "cell_type": "code",
      "source": [
        "x = int(input(\"Enter 1st number: \"))\n",
        "y = int(input(\"Enter 2nd Number: \"))\n",
        "\n",
        "if x*y <= 1000:\n",
        "  print(x*y)\n",
        "else:\n",
        "  print(x + y)\n"
      ],
      "metadata": {
        "colab": {
          "base_uri": "https://localhost:8080/"
        },
        "id": "4EyqBazFwZjc",
        "outputId": "01b0d797-dad7-4049-bc53-8c9645b7be28"
      },
      "execution_count": 29,
      "outputs": [
        {
          "output_type": "stream",
          "name": "stdout",
          "text": [
            "Enter 1st number: 45\n",
            "Enter 2nd Number: 5\n",
            "225\n"
          ]
        }
      ]
    },
    {
      "cell_type": "markdown",
      "source": [],
      "metadata": {
        "id": "v3SU7w21HR4X"
      }
    }
  ]
}